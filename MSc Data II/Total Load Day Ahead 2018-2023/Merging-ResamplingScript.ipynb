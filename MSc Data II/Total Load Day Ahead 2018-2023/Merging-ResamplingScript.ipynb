{
 "cells": [
  {
   "cell_type": "code",
   "execution_count": 1,
   "id": "ca0ccc62",
   "metadata": {},
   "outputs": [],
   "source": [
    "#Merging 5 years data in one dataset, DO NOT RUN to not generate new csv file again, it is done.\n",
    "\n",
    "import pandas as pd\n",
    "\n",
    "# Load all the datasets\n",
    "df_2018 = pd.read_csv('Total Load - Day Ahead _ Actual_2018.csv')\n",
    "df_2019 = pd.read_csv('Total Load - Day Ahead _ Actual_2019.csv')\n",
    "df_2020 = pd.read_csv('Total Load - Day Ahead _ Actual_2020.csv')\n",
    "df_2021 = pd.read_csv('Total Load - Day Ahead _ Actual_2021.csv')\n",
    "df_2022 = pd.read_csv('Total Load - Day Ahead _ Actual_2022.csv')\n",
    "df_2023 = pd.read_csv('Total Load - Day Ahead _ Actual_2023.csv')\n",
    "\n",
    "# Concatenate all the datasets into one\n",
    "df_total = pd.concat([df_2018, df_2019, df_2020, df_2021, df_2022, df_2023])\n",
    "\n",
    "# Save the combined dataframe to a new CSV file\n",
    "df_total.to_csv('Total-Load-Day-Ahead-Actual_2018-2023.csv', index=False)\n",
    "\n"
   ]
  },
  {
   "cell_type": "code",
   "execution_count": 7,
   "id": "98cea31a",
   "metadata": {},
   "outputs": [
    {
     "name": "stdout",
     "output_type": "stream",
     "text": [
      "['Time (CET/CEST)', 'Day-ahead Total Load Forecast [MW] - Ireland (IE)', 'Actual Total Load [MW] - Ireland (IE)']\n",
      "   \n",
      "<class 'pandas.core.frame.DataFrame'>\n",
      "RangeIndex: 105180 entries, 0 to 105179\n",
      "Data columns (total 3 columns):\n",
      " #   Column                                             Non-Null Count   Dtype \n",
      "---  ------                                             --------------   ----- \n",
      " 0   Time (CET/CEST)                                    105180 non-null  object\n",
      " 1   Day-ahead Total Load Forecast [MW] - Ireland (IE)  92596 non-null   object\n",
      " 2   Actual Total Load [MW] - Ireland (IE)              87062 non-null   object\n",
      "dtypes: object(3)\n",
      "memory usage: 2.4+ MB\n",
      "None\n",
      "   \n",
      "   \n",
      "   \n",
      "   \n"
     ]
    }
   ],
   "source": [
    "import pandas as pd\n",
    "\n",
    "# 5 years dataset\n",
    "\n",
    "df_total = pd.read_csv('Total-Load-Day-Ahead-Actual_2018-2023.csv')\n",
    "\n",
    "# Using list(df) to get the column headers as a list\n",
    "column_headers = list(df_total.columns)\n",
    "\n",
    "# Using list(df) to get the list of all Column Names\n",
    "column_headers = list(df_total)\n",
    "print(column_headers)\n",
    "print(\"   \")\n",
    "\n",
    "\n",
    "\n",
    "\n",
    "# Get information about data types and null values\n",
    "print(df_total.info())\n",
    "print(\"   \")\n",
    "print(\"   \")\n",
    "print(\"   \")\n",
    "print(\"   \")\n",
    "\n"
   ]
  },
  {
   "cell_type": "code",
   "execution_count": 8,
   "id": "624c9574",
   "metadata": {},
   "outputs": [],
   "source": [
    "# Rename the columns for ease of use\n",
    "df_total.rename(columns={'Time (CET/CEST)': 'Time',\n",
    "                         'Day-ahead Total Load Forecast [MW] - Ireland (IE)': 'Load Forecast',\n",
    "                         'Actual Total Load [MW] - Ireland (IE)': 'Actual Load'}, inplace=True)\n",
    "\n",
    "# Convert the 'Time' column to datetime format and keep the start of the interval\n",
    "df_total['Time'] = pd.to_datetime(df_total['Time'].str.split('-').str[0])\n",
    "\n",
    "# Set 'Time' as the index\n",
    "df_total.set_index('Time', inplace=True)\n"
   ]
  },
  {
   "cell_type": "code",
   "execution_count": 10,
   "id": "a40eb4eb",
   "metadata": {
    "scrolled": true
   },
   "outputs": [],
   "source": [
    "# Ensure 'Forecast' and 'Actual' are numeric\n",
    "df_total['Load Forecast'] = pd.to_numeric(df_total['Load Forecast'], errors='coerce')\n",
    "df_total['Actual Load'] = pd.to_numeric(df_total['Actual Load'], errors='coerce')\n",
    "\n",
    "# Now perform the resampling\n",
    "df_12h = df_total.resample('12H').mean(numeric_only=True).interpolate(method='time')\n",
    "df_12h.to_csv('Total-Load-Day-Ahead-Actual_2018-2023-12Hours.csv')\n",
    "\n",
    "df_24h = df_total.resample('24H').mean(numeric_only=True).interpolate(method='time')\n",
    "df_24h.to_csv('Total-Load-Day-Ahead-Actual_2018-2023-24Hours.csv')\n",
    "\n"
   ]
  },
  {
   "cell_type": "code",
   "execution_count": null,
   "id": "e684985e",
   "metadata": {},
   "outputs": [],
   "source": []
  }
 ],
 "metadata": {
  "kernelspec": {
   "display_name": "Python 3 (ipykernel)",
   "language": "python",
   "name": "python3"
  },
  "language_info": {
   "codemirror_mode": {
    "name": "ipython",
    "version": 3
   },
   "file_extension": ".py",
   "mimetype": "text/x-python",
   "name": "python",
   "nbconvert_exporter": "python",
   "pygments_lexer": "ipython3",
   "version": "3.10.6"
  }
 },
 "nbformat": 4,
 "nbformat_minor": 5
}
