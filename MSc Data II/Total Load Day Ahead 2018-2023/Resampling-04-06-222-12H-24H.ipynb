{
 "cells": [
  {
   "cell_type": "code",
   "execution_count": 1,
   "id": "40491a4d",
   "metadata": {},
   "outputs": [],
   "source": [
    "import pandas as pd\n",
    "\n",
    "df_total = pd.read_csv('Total-Load-Day-Ahead-Actual_2018-2023.csv')\n",
    "\n",
    "# Rename the columns for ease of use\n",
    "df_total.rename(columns={'Time (CET/CEST)': 'Time',\n",
    "                         'Day-ahead Total Load Forecast [MW] - Ireland (IE)': 'Load Forecast',\n",
    "                         'Actual Total Load [MW] - Ireland (IE)': 'Actual Load'}, inplace=True)\n",
    "\n",
    "# Convert the 'Time' column to datetime format and keep the start of the interval\n",
    "df_total['Time'] = pd.to_datetime(df_total['Time'].str.split('-').str[0])\n",
    "\n",
    "# Set 'Time' as the index\n",
    "df_total.set_index('Time', inplace=True)\n",
    "\n",
    "# Ensure 'Forecast' and 'Actual' are numeric\n",
    "df_total['Load Forecast'] = pd.to_numeric(df_total['Load Forecast'], errors='coerce')\n",
    "df_total['Actual Load'] = pd.to_numeric(df_total['Actual Load'], errors='coerce')\n",
    "\n",
    "# Resample the data to 12-hour frequency until '2022-04-06 05:00:00'\n",
    "df_12h = df_total.loc[:'2022-04-06 05:00:00'].resample('12H').mean(numeric_only=True).interpolate(method='time')\n",
    "df_12h.to_csv('Total-Load-Day-Ahead-Actual_2018-2023-12Hours-Resampled.csv')\n",
    "\n",
    "# Resample the data to 24-hour frequency until '2022-04-06 05:00:00'\n",
    "df_24h = df_total.loc[:'2022-04-06 05:00:00'].resample('24H').mean(numeric_only=True).interpolate(method='time')\n",
    "df_24h.to_csv('Total-Load-Day-Ahead-Actual_2018-2023-24Hours-Resampled.csv')\n"
   ]
  },
  {
   "cell_type": "code",
   "execution_count": null,
   "id": "5915ddac",
   "metadata": {},
   "outputs": [],
   "source": []
  }
 ],
 "metadata": {
  "kernelspec": {
   "display_name": "Python 3 (ipykernel)",
   "language": "python",
   "name": "python3"
  },
  "language_info": {
   "codemirror_mode": {
    "name": "ipython",
    "version": 3
   },
   "file_extension": ".py",
   "mimetype": "text/x-python",
   "name": "python",
   "nbconvert_exporter": "python",
   "pygments_lexer": "ipython3",
   "version": "3.10.6"
  }
 },
 "nbformat": 4,
 "nbformat_minor": 5
}
