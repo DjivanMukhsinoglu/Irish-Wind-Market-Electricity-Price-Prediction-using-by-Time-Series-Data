{
 "cells": [
  {
   "cell_type": "code",
   "execution_count": 10,
   "id": "f99ca66a",
   "metadata": {},
   "outputs": [],
   "source": [
    "#Run once, do not run second time\n",
    "\n",
    "import pandas as pd\n",
    "\n",
    "# List of file names to load and merge\n",
    "files = [\n",
    "    \"Generation Forecasts for Wind and Solar_2018.csv\", \n",
    "    \"Generation Forecasts for Wind and Solar_2019.csv\",\n",
    "    \"Generation Forecasts for Wind and Solar_2020.csv\", \n",
    "    \"Generation Forecasts for Wind and Solar_2021.csv\", \n",
    "    \"Generation Forecasts for Wind and Solar_2022.csv\",\n",
    "    \"Generation Forecasts for Wind and Solar_2023.csv\"\n",
    "]\n",
    "\n",
    "# Empty list to store each DataFrame\n",
    "all_data = []\n",
    "\n",
    "# Loop through all files\n",
    "for file in files:\n",
    "    df = pd.read_csv(file)  # Load each CSV file as a DataFrame\n",
    "    all_data.append(df)  # Append DataFrame to the list\n",
    "\n",
    "# Concatenate all the dataframes in the list into one DataFrame\n",
    "merged_df = pd.concat(all_data)\n",
    "\n",
    "# Save the merged DataFrame to a new CSV file\n",
    "merged_df.to_csv(\"merged_generation_forecasts.csv\", index=False)\n",
    "\n",
    "\n",
    "\n"
   ]
  },
  {
   "cell_type": "code",
   "execution_count": 4,
   "id": "c718e96c",
   "metadata": {},
   "outputs": [
    {
     "name": "stdout",
     "output_type": "stream",
     "text": [
      "MTU (CET/CEST)\n",
      "Generation - Solar  [MW] Day Ahead/ BZN|IE(SEM)\n",
      "Generation - Solar  [MW] Intraday / BZN|IE(SEM)\n",
      "Generation - Solar  [MW] Current / BZN|IE(SEM)\n",
      "Generation - Wind Offshore  [MW] Day Ahead/ BZN|IE(SEM)\n",
      "Generation - Wind Offshore  [MW] Intraday / BZN|IE(SEM)\n",
      "Generation - Wind Offshore  [MW] Current / BZN|IE(SEM)\n",
      "Generation - Wind Onshore  [MW] Day Ahead/ BZN|IE(SEM)\n",
      "Generation - Wind Onshore  [MW] Intraday / BZN|IE(SEM)\n",
      "Generation - Wind Onshore  [MW] Current / BZN|IE(SEM)\n"
     ]
    }
   ],
   "source": [
    "import pandas as pd\n",
    "# making data frame\n",
    "data = pd.read_csv(\"merged_generation_forecasts 2018-2023.csv\")\n",
    "\n",
    "# iterating the columns\n",
    "for col in data.columns:\n",
    "   \n",
    "    print(col)\n"
   ]
  },
  {
   "cell_type": "code",
   "execution_count": 15,
   "id": "e1712c93",
   "metadata": {},
   "outputs": [],
   "source": [
    "# Convert 'Wind Offshore  [MW] Day Ahead' to numeric\n",
    "data['Wind Offshore  [MW] Day Ahead'] = pd.to_numeric(data['Wind Offshore  [MW] Day Ahead'], errors='coerce')\n",
    "\n",
    "# Exclude data after a specific date\n",
    "data = data[data.index < pd.to_datetime('04.06.2023 02:00')]\n",
    "\n",
    "# Resample data to daily mean\n",
    "data_daily_mean = data.resample('D').mean()\n",
    "\n",
    "# Reset index\n",
    "data_daily_mean.reset_index(inplace=True)\n",
    "\n",
    "# Save the modified DataFrame to a new CSV file\n",
    "data_daily_mean.to_csv(\"filtered_and_modified_generation_forecasts.csv\", index=False)\n"
   ]
  },
  {
   "cell_type": "code",
   "execution_count": null,
   "id": "dd9371e3",
   "metadata": {},
   "outputs": [],
   "source": []
  }
 ],
 "metadata": {
  "kernelspec": {
   "display_name": "Python 3 (ipykernel)",
   "language": "python",
   "name": "python3"
  },
  "language_info": {
   "codemirror_mode": {
    "name": "ipython",
    "version": 3
   },
   "file_extension": ".py",
   "mimetype": "text/x-python",
   "name": "python",
   "nbconvert_exporter": "python",
   "pygments_lexer": "ipython3",
   "version": "3.10.6"
  }
 },
 "nbformat": 4,
 "nbformat_minor": 5
}
