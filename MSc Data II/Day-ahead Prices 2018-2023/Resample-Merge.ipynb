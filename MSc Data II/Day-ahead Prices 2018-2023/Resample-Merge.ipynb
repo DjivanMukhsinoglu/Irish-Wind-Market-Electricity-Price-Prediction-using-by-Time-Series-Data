{
 "cells": [
  {
   "cell_type": "code",
   "execution_count": 1,
   "id": "13c73428",
   "metadata": {},
   "outputs": [],
   "source": [
    "#First part, do not run again\n",
    "\n",
    "import pandas as pd\n",
    "\n",
    "# List of file names\n",
    "files = ['Day-ahead Prices_2018.csv', 'Day-ahead Prices_2019.csv', 'Day-ahead Prices_2020.csv', \n",
    "         'Day-ahead Prices_2021.csv', 'Day-ahead Prices_2022.csv', 'Day-ahead Prices_2023.csv']\n",
    "\n",
    "#  single DataFrame\n",
    "dfs = []\n",
    "for file in files:\n",
    "    df = pd.read_csv(file)\n",
    "    dfs.append(df)\n",
    "\n",
    "df_merged = pd.concat(dfs)\n",
    "\n",
    "# Drop the 'Currency' and 'BZN' columns\n",
    "df_merged.drop(['Currency', 'BZN|IE(SEM)'], axis=1, inplace=True)\n",
    "\n",
    "# Rename the column\n",
    "df_merged.rename(columns={'MTU (CET/CEST)': 'Time',\n",
    "                          'Day-ahead Price [EUR/MWh]': 'Day-ahead Price [EUR/MWh]'}, inplace=True)\n",
    "\n",
    "# Save the merged DataFrame to a new CSV file\n",
    "df_merged.to_csv('Day-ahead Prices_2018-2023.csv', index=False)\n",
    "\n"
   ]
  },
  {
   "cell_type": "code",
   "execution_count": 2,
   "id": "8158c601",
   "metadata": {},
   "outputs": [
    {
     "name": "stdout",
     "output_type": "stream",
     "text": [
      "Index(['Time', 'Day-ahead Price [EUR/MWh]'], dtype='object')\n"
     ]
    }
   ],
   "source": [
    "import pandas as pd\n",
    "# Read the dataset\n",
    "df_prices = pd.read_csv('Day-ahead Prices_2018-2023.csv')\n",
    "# Print the column names to verify the exact column name\n",
    "print(df_prices.columns)"
   ]
  },
  {
   "cell_type": "code",
   "execution_count": 8,
   "id": "bc1a7db5",
   "metadata": {
    "scrolled": false
   },
   "outputs": [
    {
     "name": "stderr",
     "output_type": "stream",
     "text": [
      "C:\\Users\\ridva\\AppData\\Local\\Temp\\ipykernel_15108\\259880021.py:19: FutureWarning: 'base' in .resample() and in Grouper() is deprecated.\n",
      "The new arguments that you should use are 'offset' or 'origin'.\n",
      "\n",
      ">>> df.resample(freq=\"3s\", base=2)\n",
      "\n",
      "becomes:\n",
      "\n",
      ">>> df.resample(freq=\"3s\", offset=\"2s\")\n",
      "\n",
      "  df_prices_daily = df_prices.resample('24H', base=11).first().ffill()\n"
     ]
    }
   ],
   "source": [
    "#Drop missing values, set 11AM price everyday, resample file\n",
    "\n",
    "import pandas as pd\n",
    "\n",
    "# Read the dataset\n",
    "df_prices = pd.read_csv('Day-ahead Prices_2018-2023.csv')\n",
    "\n",
    "# Preprocess the 'Time' column\n",
    "df_prices[['Start Time', 'End Time']] = df_prices['Time'].str.split(' - ', expand=True)\n",
    "df_prices['Time'] = pd.to_datetime(df_prices['Start Time'], format='%d.%m.%Y %H:%M')\n",
    "df_prices = df_prices.set_index('Time')\n",
    "\n",
    "# Define the date ranges to keep\n",
    "keep_ranges = [(pd.Timestamp('2018-10-01 01:00'), pd.Timestamp('2023-04-12 00:00')),\n",
    "               (pd.Timestamp('2023-04-26 02:00'), pd.Timestamp('2023-05-31 00:00'))]\n",
    "\n",
    "# Keep the rows within the specified date ranges only\n",
    "df_prices = pd.concat([df_prices.loc[start:end] for start, end in keep_ranges])\n",
    "\n",
    "# Resample the data to daily frequency and forward-fill any missing values\n",
    "df_prices_daily = df_prices.resample('24H', base=11).first().ffill()\n",
    "\n",
    "# Select the 'Day-ahead Price [EUR/MWh]' column\n",
    "selected_column = 'Day-ahead Price [EUR/MWh]'\n",
    "if selected_column in df_prices_daily.columns:\n",
    "    df_prices_daily = df_prices_daily[[selected_column]]\n",
    "    df_prices_daily.to_csv('Day-ahead Prices_Resampled.csv')\n",
    "else:\n",
    "    print(f\"Column '{selected_column}' not found in the DataFrame.\")\n"
   ]
  },
  {
   "cell_type": "code",
   "execution_count": null,
   "id": "edc7b0d2",
   "metadata": {},
   "outputs": [],
   "source": []
  }
 ],
 "metadata": {
  "kernelspec": {
   "display_name": "Python 3 (ipykernel)",
   "language": "python",
   "name": "python3"
  },
  "language_info": {
   "codemirror_mode": {
    "name": "ipython",
    "version": 3
   },
   "file_extension": ".py",
   "mimetype": "text/x-python",
   "name": "python",
   "nbconvert_exporter": "python",
   "pygments_lexer": "ipython3",
   "version": "3.10.6"
  }
 },
 "nbformat": 4,
 "nbformat_minor": 5
}
